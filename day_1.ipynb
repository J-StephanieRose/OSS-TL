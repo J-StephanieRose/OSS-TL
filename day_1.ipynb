{
 "cells": [
  {
   "cell_type": "markdown",
   "metadata": {
    "slideshow": {
     "slide_type": "skip"
    }
   },
   "source": [
    "<table>\n",
    " <tr align=left><td><img align=left src=\"https://i.creativecommons.org/l/by/4.0/88x31.png\">\n",
    " <td>Text provided under a Creative Commons Attribution license, CC-BY. All code is made available under the FSF-approved MIT license. (c) Kyle T. Mandli, Andreas C. Mueller</td>\n",
    "</table>"
   ]
  },
  {
   "cell_type": "markdown",
   "metadata": {
    "slideshow": {
     "slide_type": "slide"
    }
   },
   "source": [
    "# Leveraging Free and Open-Source Tools and Ideas for Collaborative Learning in STEM"
   ]
  },
  {
   "cell_type": "markdown",
   "metadata": {
    "slideshow": {
     "slide_type": "subslide"
    }
   },
   "source": [
    "## Icebreaker\n",
    "\n",
    " - Name\n",
    " - Affiliation\n",
    " - What are you hoping to learn through the workshop?"
   ]
  },
  {
   "cell_type": "markdown",
   "metadata": {
    "slideshow": {
     "slide_type": "subslide"
    }
   },
   "source": [
    "## What brought us to this point?"
   ]
  },
  {
   "cell_type": "markdown",
   "metadata": {
    "slideshow": {
     "slide_type": "subslide"
    }
   },
   "source": [
    "## Free and Open Source Software"
   ]
  },
  {
   "cell_type": "markdown",
   "metadata": {
    "slideshow": {
     "slide_type": "subslide"
    }
   },
   "source": [
    "<img src=\"https://upload.wikimedia.org/wikipedia/en/2/22/Heckert_GNU_white.svg\" width=\"20%\"> <img src=\"https://upload.wikimedia.org/wikipedia/commons/3/35/Tux.svg\" width=\"20%\">"
   ]
  },
  {
   "cell_type": "markdown",
   "metadata": {
    "slideshow": {
     "slide_type": "subslide"
    }
   },
   "source": [
    "### Basic Principles\n",
    "\n",
    "1. The freedom to run the program as you wish, for any purpose.\n",
    "1. The freedom to study how the program works, and change it so it does your computing as you wish.\n",
    "1. The freedom to redistribute copies so you can help your neighbor.\n",
    "1. The freedom to distribute copies of your modified versions to others. By doing this you can give the whole community a chance to benefit from your changes. Access to the source code is a precondition for this."
   ]
  },
  {
   "cell_type": "markdown",
   "metadata": {
    "slideshow": {
     "slide_type": "subslide"
    }
   },
   "source": [
    "### The What and the Why\n",
    "\n",
    "**Open exchange:** We can learn more from each other when information is open. A free exchange of ideas is critical to creating an environment where people are allowed to learn and use existing information toward creating new ideas.\n",
    "\n",
    "**Participation:**  When we are free to collaborate, we create. We can solve problems that no one person may be able to solve on their own.\n",
    "\n",
    "**Meritocracy:**  In a meritocracy, the best ideas win. In a meritocracy, everyone has access to the same information. Successful work determines which projects rise and gather effort from the community.\n",
    "\n",
    "**Community:**  Communities are formed around a common purpose. They bring together diverse ideas and share work. Together, a global community can create beyond the capabilities of any one individual. It multiplies effort and shares the work. Together, we can do more."
   ]
  },
  {
   "cell_type": "markdown",
   "metadata": {
    "slideshow": {
     "slide_type": "subslide"
    }
   },
   "source": [
    "### Breakout Session\n",
    "\n",
    "**General questions:**\n",
    " - Do you agree with the principles?\n",
    " - Do you agree on the methods to implement these principles?\n",
    "\n",
    "**Education:**\n",
    " - What are the parallels in education?\n",
    " - What about collaborative education?\n",
    "\n",
    "**Open Educational Resources** are teaching and learning materials that provide users with\n",
    "1. free and unfettered access and\n",
    "2. legal permissions to retain, reuse, revise, remix, and redistribute them, that can be used to replace traditional expensive learning resources (such as textbooks)"
   ]
  },
  {
   "cell_type": "markdown",
   "metadata": {
    "slideshow": {
     "slide_type": "subslide"
    }
   },
   "source": [
    "### Use of open source in Education\n",
    " - Open exchange and wide participation (democratization of education)\n",
    " - Meritocracy $=$ best practices?\n",
    " - Community"
   ]
  },
  {
   "cell_type": "markdown",
   "metadata": {
    "slideshow": {
     "slide_type": "slide"
    }
   },
   "source": [
    "## Licenses\n",
    "\n",
    "Discussion:\n",
    "- What do you think is important?\n",
    "- Why are licenses important?"
   ]
  },
  {
   "cell_type": "markdown",
   "metadata": {
    "slideshow": {
     "slide_type": "subslide"
    }
   },
   "source": [
    "#### Creative Commons (CC) licenses for content\n",
    "- ![cc-by](images/CC-BY.png)\n",
    "- ![cc-by-sa](images/CC-BY-SA.png)\n",
    "- ![cc-by-nc-nd](images/CC-BY-NC-ND.png)\n",
    "\n",
    "- Allow fine-grained control of rights granted.\n",
    "- Applicable to photos, text, lectures, slides, ...\n",
    "- Not ideal for software"
   ]
  },
  {
   "cell_type": "markdown",
   "metadata": {
    "slideshow": {
     "slide_type": "subslide"
    }
   },
   "source": [
    "#### Open source Software Licenses\n",
    "- Many to pick\n",
    "- GPL, LGPL, BSD, MIT, apache, see https://choosealicense.com/\n",
    "- Without specifying a license, no-one is legally allowed to use it!"
   ]
  },
  {
   "cell_type": "markdown",
   "metadata": {
    "slideshow": {
     "slide_type": "subslide"
    }
   },
   "source": [
    "#### Permissive vs share-alike (copyleft)\n",
    "- There are two main types: permissive and share-alike.\n",
    "- Permissive allows creating arbitrary derived work.\n",
    "- Share-alike requires derived work to be shared under the same license.\n",
    "- Share-alike discourage \"freeloading\" commercial use without contributing back.\n",
    "- Share-alike has been called \"viral\" for \"infecting anything it touches\".\n",
    "- GPL and LGPL are main share-alike licenses, MIT, BSD, Apache are permissive licenses.\n",
    "- MIT and BSD are mostly equivalent, Apache includes a waiver of patents."
   ]
  },
  {
   "cell_type": "markdown",
   "metadata": {
    "slideshow": {
     "slide_type": "subslide"
    }
   },
   "source": [
    "## So how do we use it?\n",
    "\n",
    " - **Goal:** Incorporate open source principles (Open exchange, participation, meritocracy, and community)\n",
    " - **Tools:** `git`/GitHub and Jupyter\n",
    " - **Workflow:** Use version control via `git` and GitHub to create content in Jupyter notebooks"
   ]
  },
  {
   "cell_type": "markdown",
   "metadata": {
    "slideshow": {
     "slide_type": "slide"
    }
   },
   "source": [
    "## GitHub and `git`"
   ]
  },
  {
   "cell_type": "markdown",
   "metadata": {
    "slideshow": {
     "slide_type": "slide"
    }
   },
   "source": [
    "## Jupyter Notebooks\n",
    "\n",
    "Provides a means for mixed content presentation while remaining dynamic."
   ]
  },
  {
   "cell_type": "markdown",
   "metadata": {
    "slideshow": {
     "slide_type": "subslide"
    }
   },
   "source": [
    "### Content types\n",
    "\n",
    " - Markdown\n",
    " - LaTeX $x^2$\n",
    " - Python, Julia, R, [lots of others](https://github.com/jupyter/jupyter/wiki/Jupyter-kernels)   "
   ]
  },
  {
   "cell_type": "markdown",
   "metadata": {
    "slideshow": {
     "slide_type": "subslide"
    }
   },
   "source": [
    "### Example:  Future Time Annuity\n",
    "\n",
    "When can I retire?\n",
    "$$\n",
    "    A = \\frac{P}{(r / m)} \\left[ \\left(1 + \\frac{r}{m} \\right)^{m \\cdot n} - 1 \\right ]\n",
    "$$\n",
    "\n",
    "$A$ total value after $n$ years\n",
    "\n",
    "$P$ is payment amount per compounding period\n",
    "\n",
    "$m$ number of compounding periods per year\n",
    "\n",
    "$r$ annual interest rate\n",
    "\n",
    "$n$ number of years to retirement"
   ]
  },
  {
   "cell_type": "code",
   "execution_count": null,
   "metadata": {
    "collapsed": true,
    "slideshow": {
     "slide_type": "subslide"
    }
   },
   "outputs": [],
   "source": [
    "%matplotlib inline\n",
    "import numpy\n",
    "import matplotlib.pyplot as plt"
   ]
  },
  {
   "cell_type": "code",
   "execution_count": null,
   "metadata": {
    "slideshow": {
     "slide_type": "subslide"
    }
   },
   "outputs": [],
   "source": [
    "x = numpy.linspace(-1, 1, 100)\n",
    "\n",
    "fig = plt.figure()\n",
    "axes = fig.add_subplot(1, 1, 1)\n",
    "axes.plot(x, numpy.sin(2.0 * numpy.pi * x))\n",
    "axes.set_title(\"Awesome Math Stuff\")\n",
    "axes.set_xlabel(\"$x$\")\n",
    "axes.set_ylabel(\"$\\sin(2 \\pi x)$\")\n",
    "axes.set_xlim([-1, 1])\n",
    "plt.show()"
   ]
  },
  {
   "cell_type": "code",
   "execution_count": null,
   "metadata": {
    "slideshow": {
     "slide_type": "subslide"
    }
   },
   "outputs": [],
   "source": [
    "def f(theta, e=0.083, M=1):\n",
    "    return theta - e * numpy.sin(theta) - M\n",
    "def f_prime(theta, e=0.083):\n",
    "    return 1 - e * numpy.cos(theta)\n",
    "\n",
    "N = 1001\n",
    "x = numpy.linspace(-30.5, -29.5, N)\n",
    "y = numpy.linspace(-17.5, -16.5, N)\n",
    "X, Y = numpy.meshgrid(x, y)\n",
    "R = X + 1j * Y\n",
    "\n",
    "for i in range(30):\n",
    "    R = R - f(R) / f_prime(R)\n",
    "    \n",
    "fig = plt.figure()\n",
    "fig.set_figwidth(fig.get_figwidth() * 2)\n",
    "fig.set_figheight(fig.get_figheight() * 2)\n",
    "axes = fig.add_subplot(1, 1, 1, aspect='equal')\n",
    "axes.contour(X, Y, R)\n",
    "axes.set_xlabel(\"Real\")\n",
    "axes.set_ylabel(\"Imaginary\")\n",
    "axes.set_title(\"Basin of Attraction for $f(\\theta) = \\theta - e \\sin \\theta - M$\")\n",
    "plt.show()"
   ]
  }
 ],
 "metadata": {
  "celltoolbar": "Slideshow",
  "kernelspec": {
   "display_name": "Python 3",
   "language": "python",
   "name": "python3"
  },
  "language_info": {
   "codemirror_mode": {
    "name": "ipython",
    "version": 3
   },
   "file_extension": ".py",
   "mimetype": "text/x-python",
   "name": "python",
   "nbconvert_exporter": "python",
   "pygments_lexer": "ipython3",
   "version": "3.6.3"
  }
 },
 "nbformat": 4,
 "nbformat_minor": 2
}
