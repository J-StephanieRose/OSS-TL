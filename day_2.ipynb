{
 "cells": [
  {
   "cell_type": "markdown",
   "metadata": {
    "slideshow": {
     "slide_type": "skip"
    }
   },
   "source": [
    "<table>\n",
    " <tr align=left><td><img align=left src=\"./images/CC-BY.png\">\n",
    " <td>Text provided under a Creative Commons Attribution license, CC-BY. All code is made available under the FSF-approved MIT license. (c) Kyle T. Mandli and Andreas Mueller</td>\n",
    "</table>"
   ]
  },
  {
   "cell_type": "code",
   "execution_count": null,
   "metadata": {
    "slideshow": {
     "slide_type": "skip"
    }
   },
   "outputs": [],
   "source": [
    "# Execute this cell to load the notebook's style sheet, then ignore it\n",
    "# import os\n",
    "# from IPython.core.display import HTML\n",
    "# css_file = os.path.join('.', 'style', 'custom.css')\n",
    "# HTML(open(css_file, \"r\").read())"
   ]
  },
  {
   "cell_type": "markdown",
   "metadata": {
    "slideshow": {
     "slide_type": "slide"
    }
   },
   "source": [
    "# Workshop Day 2:  Putting the Tools to Use\n",
    "\n",
    "### Objectives\n",
    " - Learn to use `git`, GitHub and Jupyter in the classroom\n",
    " - Learn to teach `git`, GitHub and Jupyter in the classroom"
   ]
  },
  {
   "cell_type": "markdown",
   "metadata": {
    "slideshow": {
     "slide_type": "slide"
    }
   },
   "source": [
    "## Breakout Groups\n",
    " \n",
    " - Breakout groups:  Discuss experiences with creating assignments in Jupyter, using `git` and GitHub\n",
    "   - Show off what you created\n",
    "   - Reflect on your own experiences using these tools\n",
    "     - What was difficult to use?\n",
    "     - What do you still not feel comfortable with?"
   ]
  },
  {
   "cell_type": "markdown",
   "metadata": {
    "slideshow": {
     "slide_type": "slide"
    }
   },
   "source": [
    "## Teaching and Using `git` and GitHub in the Classroom"
   ]
  },
  {
   "cell_type": "markdown",
   "metadata": {
    "slideshow": {
     "slide_type": "subslide"
    }
   },
   "source": [
    "### Why might we want to use `git`?\n",
    "\n",
    " - Things to think about:\n",
    "   - How do you manage content on your learning management system?\n",
    "   - How do you track who helped with content creation (in the context of open source educational materials this is particularly important)?\n",
    "   - How do you solicit student feedback?"
   ]
  },
  {
   "cell_type": "markdown",
   "metadata": {
    "slideshow": {
     "slide_type": "subslide"
    }
   },
   "source": [
    "### Pitfalls\n",
    " - Desktop software (GUIs) work fine until they don't\n",
    " - Distinctions between GitHub and `git` can be difficult for students\n",
    " - Students will try to interact with `git` in the GUI, in particular moving folders\n",
    " - Students commit \"derived\" files (images and the like)\n",
    " - Academic licenses (free for academics)\n",
    " - FERPA\n",
    " "
   ]
  },
  {
   "cell_type": "markdown",
   "metadata": {
    "slideshow": {
     "slide_type": "subslide"
    }
   },
   "source": [
    "### Educational Materials\n",
    "\n",
    "Use open source teaching materials to teach the use of `git`.\n",
    " - [Software Carpentry](https://software-carpentry.org) - [Git Tutorial](http://swcarpentry.github.io/git-novice/)\n",
    " - [Pro Git](https://git-scm.com/book/en/v2) (free, open source)"
   ]
  },
  {
   "cell_type": "markdown",
   "metadata": {
    "slideshow": {
     "slide_type": "subslide"
    }
   },
   "source": [
    "### Use the command line?\n",
    "\n",
    " - Most help on `git` is given via the command line\n",
    " - There really are not any great clients, especially if things go wrong"
   ]
  },
  {
   "cell_type": "markdown",
   "metadata": {
    "slideshow": {
     "slide_type": "subslide"
    }
   },
   "source": [
    "### Tools\n",
    "\n",
    " - [Create `gitignore` files](https://www.gitignore.io)"
   ]
  },
  {
   "cell_type": "markdown",
   "metadata": {
    "slideshow": {
     "slide_type": "subslide"
    }
   },
   "source": [
    "### References on Use of `git` and GitHub in the classroom\n",
    "1.\tZagalsky, A., Feliciano, J., Storey, M.-A., Zhao, Y. & Wang, W. \"The Emergence of GitHub as a Collaborative Platform for Education.\" in 1906–1917 (ACM Press, 2015). [DOI](https://doi.org/10.1145/2675133.2675284).\n",
    "1.\tFeliciano, J., Storey, M.-A. & Zagalsky, A. \"Student experiences using GitHub in software engineering courses.\" in 422–431 (ACM Press, 2016). [DOI](http://doi.org/10.1145/2889160.2889195).\n",
    "1.\tBonakdarian, E. \"PUSHING GIT & GITHUB IN UNDERGRADUATE COMPUTER SCIENCE CLASSES.\" (2016)."
   ]
  },
  {
   "cell_type": "markdown",
   "metadata": {
    "slideshow": {
     "slide_type": "slide"
    }
   },
   "source": [
    "## Teaching and Using Jupyter in the Classroom"
   ]
  },
  {
   "cell_type": "markdown",
   "metadata": {
    "slideshow": {
     "slide_type": "subslide"
    }
   },
   "source": [
    "### Pitfalls\n",
    " - Out of order execution\n",
    " - Variables are left stale through the execution\n",
    " - LaTeX required for math\n",
    " - Programming needed?"
   ]
  },
  {
   "cell_type": "markdown",
   "metadata": {
    "slideshow": {
     "slide_type": "subslide"
    }
   },
   "source": [
    "### Tutorials available\n",
    " - http://go.gwu.edu/engcomp1lesson2"
   ]
  },
  {
   "cell_type": "markdown",
   "metadata": {
    "slideshow": {
     "slide_type": "subslide"
    }
   },
   "source": [
    "### Jupyter Requires \n",
    "\n",
    " - LaTeX\n",
    " - Why incorporate programming into courses that do not explicitly need it?\n",
    " - Figures vs. quantitative plots\n",
    " - Debate about teaching/using Python vs. other languages, using other languages?\n",
    "   - Learning curve for Python\n",
    " - Jupyter notebook extensions of note\n",
    " - Travis CI"
   ]
  },
  {
   "cell_type": "markdown",
   "metadata": {
    "slideshow": {
     "slide_type": "subslide"
    }
   },
   "source": [
    "### Slides\n",
    " - `reveal.js`\n",
    " - RISE"
   ]
  },
  {
   "cell_type": "markdown",
   "metadata": {
    "slideshow": {
     "slide_type": "subslide"
    }
   },
   "source": [
    "### NBGrader\n"
   ]
  },
  {
   "cell_type": "markdown",
   "metadata": {
    "slideshow": {
     "slide_type": "subslide"
    }
   },
   "source": [
    "### `git` + Jupyter"
   ]
  }
 ],
 "metadata": {
  "celltoolbar": "Slideshow",
  "kernelspec": {
   "display_name": "Python 3",
   "language": "python",
   "name": "python3"
  },
  "language_info": {
   "codemirror_mode": {
    "name": "ipython",
    "version": 3
   },
   "file_extension": ".py",
   "mimetype": "text/x-python",
   "name": "python",
   "nbconvert_exporter": "python",
   "pygments_lexer": "ipython3",
   "version": "3.6.2"
  }
 },
 "nbformat": 4,
 "nbformat_minor": 2
}
