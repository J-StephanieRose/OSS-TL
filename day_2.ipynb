{
 "cells": [
  {
   "cell_type": "markdown",
   "metadata": {
    "slideshow": {
     "slide_type": "skip"
    }
   },
   "source": [
    "<table>\n",
    " <tr align=left><td><img align=left src=\"./images/CC-BY.png\">\n",
    " <td>Text provided under a Creative Commons Attribution license, CC-BY. All code is made available under the FSF-approved MIT license. (c) Kyle T. Mandli and Andreas Mueller</td>\n",
    "</table>"
   ]
  },
  {
   "cell_type": "markdown",
   "metadata": {
    "slideshow": {
     "slide_type": "slide"
    }
   },
   "source": [
    "# Workshop Day 2:  Putting the Tools to Use"
   ]
  },
  {
   "cell_type": "markdown",
   "metadata": {
    "slideshow": {
     "slide_type": "subslide"
    }
   },
   "source": [
    "## Intro\n",
    "\n",
    " - Objective: Learn the ins-and-outs of using open source ideas and technology in the classroom\n",
    " - Plan\n",
    "   - Breakout 1:  Discuss the homework and your experiences.\n",
    "   - Discuss pitfalls of `git`, GitHub, and Jupyter\n",
    "   - Breakout 2:  Teaching using `git` and GitHub\n",
    "   - Discuss ways to use `git` and GitHub in the classroom and beyond\n",
    "   - Breakout 3:  Teaching using Jupyter\n",
    "   - Discuss ways to use Jupyter in the classroom and beyond\n",
    "   - Helpful other tools\n",
    "   - Bridging these ideas to research\n",
    "   - Closing discussion"
   ]
  },
  {
   "cell_type": "markdown",
   "metadata": {
    "slideshow": {
     "slide_type": "subslide"
    }
   },
   "source": [
    "## Data from Pre-Survey\n",
    "\n",
    "FILL IN!!!"
   ]
  },
  {
   "cell_type": "markdown",
   "metadata": {
    "slideshow": {
     "slide_type": "slide"
    }
   },
   "source": [
    "## Breakout Groups\n",
    "\n",
    "Discuss your experiences with creating assignments in Jupyter and using `git` and GitHub.\n",
    " - Show off your creations.\n",
    " - How could you see this being used in your own teaching?\n",
    " - What difficulties did you come across while making your notebooks?\n",
    " - What difficulties do you anticipate a student having?\n",
    " \n",
    "Pick someone from your group to report back to the larger group."
   ]
  },
  {
   "cell_type": "markdown",
   "metadata": {
    "slideshow": {
     "slide_type": "subslide"
    }
   },
   "source": [
    "## Breakout Group Reporting\n",
    "\n",
    "### What strengths did you see in the work flow?"
   ]
  },
  {
   "cell_type": "markdown",
   "metadata": {
    "slideshow": {
     "slide_type": "subslide"
    }
   },
   "source": [
    "## Breakout Group Reporting\n",
    "\n",
    "### What difficulties did you run across?"
   ]
  },
  {
   "cell_type": "markdown",
   "metadata": {
    "slideshow": {
     "slide_type": "subslide"
    }
   },
   "source": [
    "## Breakout Group Reporting\n",
    "\n",
    "### What difficulties do you anticipate from a student perspective?"
   ]
  },
  {
   "cell_type": "markdown",
   "metadata": {
    "slideshow": {
     "slide_type": "slide"
    }
   },
   "source": [
    "## Teaching and Using `git` and GitHub in the Classroom"
   ]
  },
  {
   "cell_type": "markdown",
   "metadata": {
    "slideshow": {
     "slide_type": "subslide"
    }
   },
   "source": [
    "### Breakout Group Discussion\n",
    "\n",
    "Why might we want to use `git` and GitHub?\n",
    "- How do you manage content on your learning management system (LMS)?\n",
    "- How do you track who helped with content creation?\n",
    "- How do you solicit student feedback?\n",
    "\n",
    "Pick a group member again to report back."
   ]
  },
  {
   "cell_type": "markdown",
   "metadata": {
    "slideshow": {
     "slide_type": "subslide"
    }
   },
   "source": [
    "### Breakout Group\n",
    "\n",
    "Pros and Cons?"
   ]
  },
  {
   "cell_type": "markdown",
   "metadata": {
    "slideshow": {
     "slide_type": "subslide"
    }
   },
   "source": [
    "### Pros\n",
    " - Learning Management System (LMS) but with versioning\n",
    " - Easy to have multiple people contributing to content and credit them\n",
    " - GitHub is a widely recognized platform\n",
    " - May be useful for students' future careers\n",
    " - Content is rendered by GitHub so students do not need to have a notebook server installed\n",
    " - Easy to track \"issues\" and projects via the GitHub interface"
   ]
  },
  {
   "cell_type": "markdown",
   "metadata": {
    "slideshow": {
     "slide_type": "subslide"
    }
   },
   "source": [
    "### Cons\n",
    " - Desktop software (GUIs) work fine until they don't\n",
    " - Distinctions between GitHub and `git` can be difficult for students\n",
    " - Students will try to interact with `git` in the GUI, in particular moving folders\n",
    " - Students commit \"derived\" files (images and the like)\n",
    " - Academic licenses (free for academics)\n",
    " - FERPA\n",
    " "
   ]
  },
  {
   "cell_type": "markdown",
   "metadata": {
    "slideshow": {
     "slide_type": "subslide"
    }
   },
   "source": [
    "### Solutions - Educational Resources\n",
    "\n",
    "Use open source teaching materials to teach the use of `git`.\n",
    " - [Software Carpentry](https://software-carpentry.org) [Git Tutorial](http://swcarpentry.github.io/git-novice/)\n",
    " - [Pro Git](https://git-scm.com/book/en/v2) (free, open source)\n",
    " - Use a [visual tutorial](https://learngitbranching.js.org)"
   ]
  },
  {
   "cell_type": "markdown",
   "metadata": {
    "slideshow": {
     "slide_type": "subslide"
    }
   },
   "source": [
    "### Solutions - Command Line\n",
    " \n",
    "Encourage only the use of the command line\n",
    " - Most help on `git` is given via the command line\n",
    " - There really are not any great clients, especially if things go wrong"
   ]
  },
  {
   "cell_type": "markdown",
   "metadata": {
    "slideshow": {
     "slide_type": "subslide"
    }
   },
   "source": [
    "### Solutions - Tools\n",
    " - Create `.gitignore` files\n",
    " - Show common setups (through git settings) to make `git` more user friendly"
   ]
  },
  {
   "cell_type": "markdown",
   "metadata": {
    "slideshow": {
     "slide_type": "subslide"
    }
   },
   "source": [
    "### Solutions - References\n",
    "\n",
    "1.\tZagalsky, A., Feliciano, J., Storey, M.-A., Zhao, Y. & Wang, W. \"The Emergence of GitHub as a Collaborative Platform for Education.\" in 1906–1917 (ACM Press, 2015). [DOI](https://doi.org/10.1145/2675133.2675284).\n",
    "1.\tFeliciano, J., Storey, M.-A. & Zagalsky, A. \"Student experiences using GitHub in software engineering courses.\" in 422–431 (ACM Press, 2016). [DOI](http://doi.org/10.1145/2889160.2889195).\n",
    "1.\tBonakdarian, E. \"PUSHING GIT & GITHUB IN UNDERGRADUATE COMPUTER SCIENCE CLASSES.\" (2016).\n",
    "1. https://software-carpentry.org/assessment/"
   ]
  },
  {
   "cell_type": "markdown",
   "metadata": {
    "slideshow": {
     "slide_type": "slide"
    }
   },
   "source": [
    "## Teaching and Using Jupyter in the Classroom"
   ]
  },
  {
   "cell_type": "markdown",
   "metadata": {
    "slideshow": {
     "slide_type": "subslide"
    }
   },
   "source": [
    "### Breakout Group Discussion\n",
    "\n",
    "Why might we want to use Jupyter in the classroom?\n",
    " - How would the mixed and interactive content be useful?\n",
    " - What might be difficult from a student perspective?\n",
    " - Why incorporate programming into courses that do not explicitly need it?\n",
    "\n",
    "Pick a group member again to report back."
   ]
  },
  {
   "cell_type": "markdown",
   "metadata": {
    "slideshow": {
     "slide_type": "subslide"
    }
   },
   "source": [
    "### Breakout Group Reporting\n",
    "\n",
    "Pros and Cons?"
   ]
  },
  {
   "cell_type": "markdown",
   "metadata": {
    "slideshow": {
     "slide_type": "subslide"
    }
   },
   "source": [
    "### Pros\n",
    " - Mixed content\n",
    " - Create plots from scratch (reproducibility)\n",
    " - Figures vs. quantitative plots\n",
    " - Computing has become critical to STEM education and research\n",
    " - Interact with lecture notes (slides) with live coding demos"
   ]
  },
  {
   "cell_type": "markdown",
   "metadata": {
    "slideshow": {
     "slide_type": "subslide"
    }
   },
   "source": [
    "### Cons\n",
    " \n",
    " - Out of order execution\n",
    " - Variables are left stale through the execution\n",
    " - Cannot save the session\n",
    " - LaTeX required for math\n",
    " - Version control with `git`"
   ]
  },
  {
   "cell_type": "markdown",
   "metadata": {
    "slideshow": {
     "slide_type": "subslide"
    }
   },
   "source": [
    "### Solutions - Educational Resources\n",
    "\n",
    " - [Jupyter Tutorials](http://go.gwu.edu/engcomp1lesson2)\n",
    " - Jupyter user interface tour (help menu)"
   ]
  },
  {
   "cell_type": "markdown",
   "metadata": {
    "slideshow": {
     "slide_type": "subslide"
    }
   },
   "source": [
    "### Solutions - Learning Curve\n",
    "\n",
    " - LaTeX\n",
    " - Python vs. other languages\n",
    "   - [Jupyter Kernels](https://github.com/jupyter/jupyter/wiki/Jupyter-kernels)"
   ]
  },
  {
   "cell_type": "markdown",
   "metadata": {
    "slideshow": {
     "slide_type": "subslide"
    }
   },
   "source": [
    "### Solutions - `git` + Jupyter\n",
    "\n",
    " - Run \"Restart and Clear Output\" before committing\n",
    " - `nbdime`"
   ]
  },
  {
   "cell_type": "markdown",
   "metadata": {
    "slideshow": {
     "slide_type": "subslide"
    }
   },
   "source": [
    "### Lecturing with Jupyter Notebooks\n",
    "\n",
    " - Active learning techniques\n",
    "   - Live coding\n",
    "   - Pausing periodically\n",
    " - Students can interact and change the course notes while in class\n",
    " - Slides\n",
    "   - `reveal.js`\n",
    "   - RISE"
   ]
  },
  {
   "cell_type": "markdown",
   "metadata": {
    "slideshow": {
     "slide_type": "subslide"
    }
   },
   "source": [
    "### NBGrader\n",
    "\n",
    "Auto-grading system for Jupyter notebooks."
   ]
  },
  {
   "cell_type": "markdown",
   "metadata": {
    "slideshow": {
     "slide_type": "subslide"
    }
   },
   "source": [
    "### JupyterHub\n",
    "\n",
    "Server for organizing and running notebooks."
   ]
  },
  {
   "cell_type": "markdown",
   "metadata": {
    "slideshow": {
     "slide_type": "subslide"
    }
   },
   "source": [
    "## Wrap Up\n",
    "\n",
    " - What have you recognized as a possible avenue to apply FOSS to your own teaching?\n",
    " - Given these avenues where do you feel you need more development?\n",
    " - Where would you be interested in learning more?"
   ]
  },
  {
   "cell_type": "code",
   "execution_count": null,
   "metadata": {
    "collapsed": true
   },
   "outputs": [],
   "source": []
  }
 ],
 "metadata": {
  "celltoolbar": "Slideshow",
  "kernelspec": {
   "display_name": "Python 3",
   "language": "python",
   "name": "python3"
  },
  "language_info": {
   "codemirror_mode": {
    "name": "ipython",
    "version": 3
   },
   "file_extension": ".py",
   "mimetype": "text/x-python",
   "name": "python",
   "nbconvert_exporter": "python",
   "pygments_lexer": "ipython3",
   "version": "3.6.3"
  }
 },
 "nbformat": 4,
 "nbformat_minor": 2
}
