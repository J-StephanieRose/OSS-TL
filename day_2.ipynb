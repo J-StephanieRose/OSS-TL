{
 "cells": [
  {
   "cell_type": "markdown",
   "metadata": {
    "slideshow": {
     "slide_type": "skip"
    }
   },
   "source": [
    "<table>\n",
    " <tr align=left><td><img align=left src=\"./images/CC-BY.png\">\n",
    " <td>Text provided under a Creative Commons Attribution license, CC-BY. All code is made available under the FSF-approved MIT license. (c) Kyle T. Mandli and Andreas Mueller</td>\n",
    "</table>"
   ]
  },
  {
   "cell_type": "markdown",
   "metadata": {
    "slideshow": {
     "slide_type": "slide"
    }
   },
   "source": [
    "# Workshop Day 2:  Putting the Tools to Use\n",
    "\n",
    "### Objectives\n",
    " - Learn to use `git`, GitHub and Jupyter in the classroom\n",
    " - Learn to teach `git`, GitHub and Jupyter in the classroom"
   ]
  },
  {
   "cell_type": "markdown",
   "metadata": {
    "slideshow": {
     "slide_type": "slide"
    }
   },
   "source": [
    "## Breakout Groups\n",
    " \n",
    " - Breakout groups:\n",
    "   - Discuss experiences with creating assignments in Jupyter, using git\n",
    "   - Show off what you created\n",
    "   - Make sure to note the pain points and where you thought things went smoothly"
   ]
  },
  {
   "cell_type": "markdown",
   "metadata": {
    "slideshow": {
     "slide_type": "slide"
    }
   },
   "source": [
    "## Teaching and Using `git` and GitHub in the Classroom\n",
    "\n",
    " - Strategies for teaching git and github\n",
    "   - Educational resources, software carpentry\n",
    "   - Graphical tutorials\n",
    "   - Motivating students\n",
    "   \n",
    " - How to use and teach git in the classroom\n",
    "   - Tools to teach git"
   ]
  },
  {
   "cell_type": "markdown",
   "metadata": {
    "slideshow": {
     "slide_type": "subslide"
    }
   },
   "source": [
    "### Why?\n",
    " - LMS are not exactly great at versioning\n",
    " - Transparency of credit\n",
    " - Actively solicit student feedback (encourage participation)\n",
    " - Industry relevance\n",
    " - Academic licenses (free for academics)\n",
    " - FERPA"
   ]
  },
  {
   "cell_type": "markdown",
   "metadata": {
    "slideshow": {
     "slide_type": "subslide"
    }
   },
   "source": [
    "### Pitfalls\n",
    " - Desktop software (GUIs) work fine until they don't\n",
    " - Distinctions between GitHub and `git` can be difficult for students\n",
    " - Students will try to interact with `git` in the GUI, in particular moving folders\n",
    " - Students commit \"derived\" files (images and the like)\n",
    " "
   ]
  },
  {
   "cell_type": "markdown",
   "metadata": {
    "slideshow": {
     "slide_type": "subslide"
    }
   },
   "source": [
    "### Use the command line?\n",
    "\n",
    " - Most help on `git` is given via the command line\n",
    " - There really are not any great clients, especially if things go wrong\n",
    " - Fantastic resources on how to use `git` at the command line\n",
    "   - Pro Git (free, open source)\n",
    "   - Visual tutorials"
   ]
  },
  {
   "cell_type": "markdown",
   "metadata": {
    "slideshow": {
     "slide_type": "subslide"
    }
   },
   "source": [
    "### References on Use of `git` and GitHub in the classroom\n",
    "1.\tZagalsky, A., Feliciano, J., Storey, M.-A., Zhao, Y. & Wang, W. \"The Emergence of GitHub as a Collaborative Platform for Education.\" in 1906–1917 (ACM Press, 2015). [DOI](https://doi.org/10.1145/2675133.2675284).\n",
    "1.\tFeliciano, J., Storey, M.-A. & Zagalsky, A. \"Student experiences using GitHub in software engineering courses.\" in 422–431 (ACM Press, 2016). [DOI](http://doi.org/10.1145/2889160.2889195).\n",
    "1.\tBonakdarian, E. \"PUSHING GIT & GITHUB IN UNDERGRADUATE COMPUTER SCIENCE CLASSES.\" (2016)."
   ]
  },
  {
   "cell_type": "markdown",
   "metadata": {
    "slideshow": {
     "slide_type": "slide"
    }
   },
   "source": [
    "## Teaching and Using Jupyter in the Classroom"
   ]
  },
  {
   "cell_type": "markdown",
   "metadata": {
    "slideshow": {
     "slide_type": "subslide"
    }
   },
   "source": [
    "### Pitfalls\n",
    " - Out of order execution\n",
    " - Variables are left stale through the execution\n",
    " - LaTeX required for math\n",
    " - Programming needed?"
   ]
  },
  {
   "cell_type": "markdown",
   "metadata": {
    "slideshow": {
     "slide_type": "subslide"
    }
   },
   "source": [
    "### Jupyter Requires \n",
    "\n",
    " - LaTeX\n",
    " - Why incorporate programming into courses that do not explicitly need it?\n",
    " - Figures vs. quantitative plots\n",
    " - Debate about teaching/using Python vs. other languages, using other languages?\n",
    "   - Learning curve for Python\n",
    " - Jupyter notebook extensions of note\n",
    " - Travis CI"
   ]
  },
  {
   "cell_type": "markdown",
   "metadata": {
    "slideshow": {
     "slide_type": "subslide"
    }
   },
   "source": [
    "### Slides\n",
    " - `reveal.js`\n",
    " - RISE"
   ]
  },
  {
   "cell_type": "markdown",
   "metadata": {
    "slideshow": {
     "slide_type": "subslide"
    }
   },
   "source": []
  }
 ],
 "metadata": {
  "celltoolbar": "Slideshow",
  "kernelspec": {
   "display_name": "Python 3",
   "language": "python",
   "name": "python3"
  },
  "language_info": {
   "codemirror_mode": {
    "name": "ipython",
    "version": 3
   },
   "file_extension": ".py",
   "mimetype": "text/x-python",
   "name": "python",
   "nbconvert_exporter": "python",
   "pygments_lexer": "ipython3",
   "version": "3.6.2"
  }
 },
 "nbformat": 4,
 "nbformat_minor": 2
}
