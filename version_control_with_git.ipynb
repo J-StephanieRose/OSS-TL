{
 "cells": [
  {
   "cell_type": "markdown",
   "metadata": {
    "slideshow": {
     "slide_type": "slide"
    }
   },
   "source": [
    "# Version Control with Git"
   ]
  },
  {
   "cell_type": "markdown",
   "metadata": {
    "slideshow": {
     "slide_type": "slide"
    }
   },
   "source": [
    "\n",
    "## What is version control?"
   ]
  },
  {
   "cell_type": "markdown",
   "metadata": {
    "slideshow": {
     "slide_type": "slide"
    }
   },
   "source": [
    "![do you need git](images/do-you-need-git.png)"
   ]
  },
  {
   "cell_type": "markdown",
   "metadata": {
    "slideshow": {
     "slide_type": "slide"
    }
   },
   "source": [
    "\n",
    "## Why do I care about the history of a project?\n",
    "\n",
    "![final_doc](images/final_doc.jpg)"
   ]
  },
  {
   "cell_type": "markdown",
   "metadata": {
    "slideshow": {
     "slide_type": "slide"
    }
   },
   "source": [
    "## Configuration"
   ]
  },
  {
   "cell_type": "code",
   "execution_count": 1,
   "metadata": {
    "slideshow": {
     "slide_type": "skip"
    }
   },
   "outputs": [],
   "source": [
    "cd /tmp\n",
    "rm -rf planets\n",
    "mkdir planets\n",
    "cd planets"
   ]
  },
  {
   "cell_type": "code",
   "execution_count": 2,
   "metadata": {
    "slideshow": {
     "slide_type": "-"
    }
   },
   "outputs": [],
   "source": [
    "git config --global user.name \"Andreas Mueller\"\n",
    "git config --global user.email \"andreas.mueller@columbia.edu\"\n",
    "git config --global color.ui \"auto\"\n",
    "git config --global core.editor \"nano\""
   ]
  },
  {
   "cell_type": "markdown",
   "metadata": {
    "slideshow": {
     "slide_type": "-"
    }
   },
   "source": [
    "- git command format: git verb\n",
    "- verb: config\n",
    "    - who you are\n",
    "- --global \n",
    "    - apply everywhere\n",
    "- color: color code output\n",
    "- editor: set default editor \n",
    "\n",
    "You can change these setting at any time.\n",
    "Show your configuration:"
   ]
  },
  {
   "cell_type": "code",
   "execution_count": 3,
   "metadata": {},
   "outputs": [
    {
     "name": "stdout",
     "output_type": "stream",
     "text": [
      "user.email=andreas.mueller@columbia.edu\n",
      "user.name=Andreas Mueller\n",
      "core.editor=nano\n",
      "pager.grep=false\n",
      "pager.log=false\n",
      "diff.tool=meld\n",
      "diff.dir-diff=true\n",
      "difftool.nbdime.cmd=git-nbdifftool diff \"$LOCAL\" \"$REMOTE\" --ignore-metadata\n",
      "difftool.prompt=false\n",
      "diff.jupyternotebook.command=git-nbdiffdriver diff --ignore-metadata\n",
      "merge.jupyternotebook.driver=git-nbmergedriver merge %O %A %B %L %P\n",
      "merge.jupyternotebook.name=jupyter notebook merge driver\n",
      "mergetool.nbdime.cmd=git-nbmergetool merge \"$BASE\" \"$LOCAL\" \"$REMOTE\" \"$MERGED\"\n",
      "mergetool.prompt=false\n",
      "color.ui=auto\n"
     ]
    }
   ],
   "source": [
    "git config --list"
   ]
  },
  {
   "cell_type": "markdown",
   "metadata": {
    "slideshow": {
     "slide_type": "slide"
    }
   },
   "source": [
    "## Creating a repository\n",
    "\n",
    "- make a directory called planets\n",
    "- cd into planets directory"
   ]
  },
  {
   "cell_type": "code",
   "execution_count": 4,
   "metadata": {},
   "outputs": [
    {
     "name": "stdout",
     "output_type": "stream",
     "text": [
      "Initialized empty Git repository in /tmp/planets/.git/\n"
     ]
    }
   ],
   "source": [
    "git init"
   ]
  },
  {
   "cell_type": "markdown",
   "metadata": {},
   "source": [
    "- make planets directory a repository "
   ]
  },
  {
   "cell_type": "code",
   "execution_count": 5,
   "metadata": {},
   "outputs": [
    {
     "name": "stdout",
     "output_type": "stream",
     "text": [
      "\u001b[0m\u001b[01;34m.\u001b[0m  \u001b[30;42m..\u001b[0m  \u001b[01;34m.git\u001b[0m\n"
     ]
    }
   ],
   "source": [
    "ls -a\n"
   ]
  },
  {
   "cell_type": "markdown",
   "metadata": {},
   "source": [
    "- .git directory is where git stores the history of the project\n"
   ]
  },
  {
   "cell_type": "code",
   "execution_count": 6,
   "metadata": {},
   "outputs": [
    {
     "name": "stdout",
     "output_type": "stream",
     "text": [
      "On branch master\n",
      "\n",
      "Initial commit\n",
      "\n",
      "nothing to commit (create/copy files and use \"git add\" to track)\n"
     ]
    }
   ],
   "source": [
    "git status"
   ]
  },
  {
   "cell_type": "markdown",
   "metadata": {
    "slideshow": {
     "slide_type": "slide"
    }
   },
   "source": [
    "## Tracking Changes to Files\n",
    "\n",
    "- Create a file to track\n",
    "    - Open your text editor\n",
    "    - Type: cold and dry but everything is my favorite color\n",
    "    - save file as mars.txt\n",
    "- Check in with git\n",
    "\n",
    "- start tracking file\n",
    "\n",
    "- Record current state\n",
    "\n",
    "    - ``-m`` : commit message inline\n",
    "\n"
   ]
  },
  {
   "cell_type": "markdown",
   "metadata": {
    "slideshow": {
     "slide_type": "slide"
    }
   },
   "source": [
    "## Exercise 1:\n",
    "\n",
    "- Create a file called jupiter.txt with a sentence about jupiter in your planets directory\n",
    "- start tracking and record the current state of jupiter.txt\n",
    "- Put your green post-it up when you are done"
   ]
  },
  {
   "cell_type": "code",
   "execution_count": 7,
   "metadata": {
    "slideshow": {
     "slide_type": "skip"
    }
   },
   "outputs": [],
   "source": [
    "touch filename"
   ]
  },
  {
   "cell_type": "code",
   "execution_count": 8,
   "metadata": {},
   "outputs": [
    {
     "name": "stdout",
     "output_type": "stream",
     "text": [
      "On branch master\n",
      "\n",
      "Initial commit\n",
      "\n",
      "Untracked files:\n",
      "  (use \"git add <file>...\" to include in what will be committed)\n",
      "\n",
      "\t\u001b[31mfilename\u001b[m\n",
      "\n",
      "nothing added to commit but untracked files present (use \"git add\" to track)\n",
      "[master (root-commit) 7124a1b] commit message\n",
      " 1 file changed, 0 insertions(+), 0 deletions(-)\n",
      " create mode 100644 filename\n"
     ]
    }
   ],
   "source": [
    "git status\n",
    "git add filename\n",
    "git commit -m \"commit message\""
   ]
  },
  {
   "cell_type": "markdown",
   "metadata": {
    "slideshow": {
     "slide_type": "slide"
    }
   },
   "source": [
    "## Viewing your history"
   ]
  },
  {
   "cell_type": "code",
   "execution_count": 9,
   "metadata": {},
   "outputs": [
    {
     "name": "stdout",
     "output_type": "stream",
     "text": [
      "\u001b[33mcommit 7124a1be43ff1a39f24c0a31580e172b7815ac78\u001b[m\n",
      "Author: Andreas Mueller <andreas.mueller@columbia.edu>\n",
      "Date:   Thu Nov 9 17:07:58 2017 -0500\n",
      "\n",
      "    commit message\n"
     ]
    }
   ],
   "source": [
    "git log"
   ]
  },
  {
   "cell_type": "markdown",
   "metadata": {
    "slideshow": {
     "slide_type": "slide"
    }
   },
   "source": [
    "## Changing a File\n",
    "\n",
    "\n",
    "Open your mars.txt file and add:\n",
    ">The two moons may be a problem for Wolfman\n",
    "\n",
    "Check the status of your files"
   ]
  },
  {
   "cell_type": "code",
   "execution_count": 10,
   "metadata": {
    "slideshow": {
     "slide_type": "skip"
    }
   },
   "outputs": [],
   "source": [
    "echo \"The two moons may be a problem for Wolfman\" >> mars.txt"
   ]
  },
  {
   "cell_type": "code",
   "execution_count": 11,
   "metadata": {},
   "outputs": [
    {
     "name": "stdout",
     "output_type": "stream",
     "text": [
      "On branch master\n",
      "Untracked files:\n",
      "  (use \"git add <file>...\" to include in what will be committed)\n",
      "\n",
      "\t\u001b[31mmars.txt\u001b[m\n",
      "\n",
      "nothing added to commit but untracked files present (use \"git add\" to track)\n"
     ]
    }
   ],
   "source": [
    "git status"
   ]
  },
  {
   "cell_type": "markdown",
   "metadata": {},
   "source": [
    "View the changes you made"
   ]
  },
  {
   "cell_type": "code",
   "execution_count": 12,
   "metadata": {},
   "outputs": [],
   "source": [
    "git diff mars.txt"
   ]
  },
  {
   "cell_type": "markdown",
   "metadata": {},
   "source": [
    "Tell git which files you want to record changes in"
   ]
  },
  {
   "cell_type": "code",
   "execution_count": 13,
   "metadata": {},
   "outputs": [],
   "source": [
    "git add mars.txt"
   ]
  },
  {
   "cell_type": "markdown",
   "metadata": {},
   "source": [
    "Save changes to revision history"
   ]
  },
  {
   "cell_type": "code",
   "execution_count": 14,
   "metadata": {},
   "outputs": [
    {
     "name": "stdout",
     "output_type": "stream",
     "text": [
      "[master fc1a696] concerns about Mars' moons\n",
      " 1 file changed, 1 insertion(+)\n",
      " create mode 100644 mars.txt\n"
     ]
    }
   ],
   "source": [
    "git commit -m \"concerns about Mars' moons\""
   ]
  },
  {
   "cell_type": "markdown",
   "metadata": {
    "slideshow": {
     "slide_type": "slide"
    }
   },
   "source": [
    "##  What are we doing?\n",
    "\n",
    "![git staging area](images/git-staging-area.png)"
   ]
  },
  {
   "cell_type": "markdown",
   "metadata": {
    "slideshow": {
     "slide_type": "slide"
    }
   },
   "source": [
    "## Exercise\n",
    "\n",
    "- Open file jupiter.txt in your text editor\n",
    "- Add a line\n",
    "- View the change you made using git\n",
    "- Record your changes in the project's history\n",
    "- View your project's history\n",
    "- Put up your green post-it\n",
    "- Bonus:\n",
    "    - make another change\n",
    "    - try any one of these variations:\n",
    "        - commit without adding\n",
    "        - view changes between adding and committing\n",
    "        - commit without the -m\n",
    "\n"
   ]
  },
  {
   "cell_type": "markdown",
   "metadata": {
    "slideshow": {
     "slide_type": "slide"
    }
   },
   "source": [
    "## A note on viewing changes\n",
    "\n",
    "     \n",
    "Changes between working directory and what was last staged"
   ]
  },
  {
   "cell_type": "code",
   "execution_count": 15,
   "metadata": {},
   "outputs": [],
   "source": [
    "git diff"
   ]
  },
  {
   "cell_type": "markdown",
   "metadata": {},
   "source": [
    "Changes between staging area and last commit"
   ]
  },
  {
   "cell_type": "code",
   "execution_count": 16,
   "metadata": {},
   "outputs": [],
   "source": [
    "git diff --staged"
   ]
  },
  {
   "cell_type": "markdown",
   "metadata": {
    "slideshow": {
     "slide_type": "slide"
    }
   },
   "source": [
    "## Referencing different versions\n",
    "\n",
    "- Shorthand for different versions of a repository (refers to commits)\n",
    "    - Current Version (most recent commit): ``HEAD``\n",
    "    - Version before current: ``HEAD~1``\n",
    "    - Version before that: ``HEAD~2``\n",
    "- Each of these also has a commit hash\n",
    "    - use ``git log`` to get appropriate hash\n"
   ]
  },
  {
   "cell_type": "markdown",
   "metadata": {},
   "source": [
    "## Exploring History\n",
    "\n",
    "Changes made in the last commit         "
   ]
  },
  {
   "cell_type": "code",
   "execution_count": 17,
   "metadata": {},
   "outputs": [
    {
     "name": "stdout",
     "output_type": "stream",
     "text": [
      "\u001b[1mdiff --git a/mars.txt b/mars.txt\u001b[m\n",
      "\u001b[1mnew file mode 100644\u001b[m\n",
      "\u001b[1mindex 0000000..556836a\u001b[m\n",
      "\u001b[1m--- /dev/null\u001b[m\n",
      "\u001b[1m+++ b/mars.txt\u001b[m\n",
      "\u001b[36m@@ -0,0 +1 @@\u001b[m\n",
      "\u001b[32m+\u001b[m\u001b[32mThe two moons may be a problem for Wolfman\u001b[m\n"
     ]
    }
   ],
   "source": [
    "git diff HEAD~1"
   ]
  },
  {
   "cell_type": "markdown",
   "metadata": {},
   "source": [
    "Changes made in the last 2 commits\n",
    "\n",
    "``git diff HEAD~2``"
   ]
  },
  {
   "cell_type": "markdown",
   "metadata": {},
   "source": [
    "Changes made since commit hash..."
   ]
  },
  {
   "cell_type": "markdown",
   "metadata": {},
   "source": [
    "- use first 7 characters\n",
    "- use ``git log`` to find commit you want"
   ]
  },
  {
   "cell_type": "markdown",
   "metadata": {
    "slideshow": {
     "slide_type": "slide"
    }
   },
   "source": [
    "# Collaborating using git & github"
   ]
  },
  {
   "cell_type": "markdown",
   "metadata": {
    "slideshow": {
     "slide_type": "slide"
    }
   },
   "source": [
    "\n",
    "## Remote repository\n",
    "\n",
    "- central location everyone can see\n",
    "- requires network\n",
    "- github, bitbucket\n",
    "- public vs private\n",
    "\n",
    "![git repo first push](images/github-repo-after-first-push.jpg)\n"
   ]
  },
  {
   "cell_type": "markdown",
   "metadata": {
    "slideshow": {
     "slide_type": "slide"
    }
   },
   "source": [
    "## Sign into github\n",
    "\n",
    "- go to github.com\n",
    "- sign into your account\n",
    "- Put up a green post-it"
   ]
  },
  {
   "cell_type": "markdown",
   "metadata": {
    "slideshow": {
     "slide_type": "slide"
    }
   },
   "source": [
    "## Create a new repository\n",
    "\n",
    "- Press the create a new repo button\n",
    "![create repo 1](images/create_repo1.jpg)\n",
    "\n",
    "- Call your repo planets and \"create repository\"\n",
    "- Follow the directions to push an existing repository\n",
    "- put up your green post-it\n",
    "\n",
    "![create repo 2](images/create_repo2.jpg)\n"
   ]
  },
  {
   "cell_type": "markdown",
   "metadata": {
    "slideshow": {
     "slide_type": "slide"
    }
   },
   "source": [
    "\n",
    "## Exercise: Explore your remote repository\n",
    "\n",
    "- at the top of the page click yourname/planets\n",
    "- Explore...\n",
    "\n",
    "![return to repo](images/return_to_repo.jpg)"
   ]
  },
  {
   "cell_type": "markdown",
   "metadata": {
    "slideshow": {
     "slide_type": "slide"
    }
   },
   "source": [
    "## what is my remote repository?"
   ]
  },
  {
   "cell_type": "code",
   "execution_count": 18,
   "metadata": {
    "collapsed": true
   },
   "outputs": [],
   "source": [
    "git remote -v"
   ]
  },
  {
   "cell_type": "markdown",
   "metadata": {
    "slideshow": {
     "slide_type": "slide"
    }
   },
   "source": [
    "## Cloning a repository"
   ]
  },
  {
   "cell_type": "markdown",
   "metadata": {},
   "source": [
    "- Cloning a different person's repository\n",
    "    - make sure its set to HTTPS\n",
    "    \n",
    "![clone](images/clone.jpg)\n",
    "\n",
    "``git clone https://github.com/amueller/oss-tl2.git``"
   ]
  }
 ],
 "metadata": {
  "celltoolbar": "Slideshow",
  "kernelspec": {
   "display_name": "Bash",
   "language": "bash",
   "name": "bash"
  },
  "language_info": {
   "codemirror_mode": "shell",
   "file_extension": ".sh",
   "mimetype": "text/x-sh",
   "name": "bash"
  }
 },
 "nbformat": 4,
 "nbformat_minor": 2
}
