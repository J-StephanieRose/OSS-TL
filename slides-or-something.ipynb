{
 "cells": [
  {
   "cell_type": "markdown",
   "metadata": {},
   "source": [
    "# Leveraging Open Source Principles and Resources for Teaching and Learning in STEM\n"
   ]
  },
  {
   "cell_type": "markdown",
   "metadata": {
    "slideshow": {
     "slide_type": "skip"
    }
   },
   "source": [
    "<table>\n",
    " <tr align=left><td><img align=left src=\"https://i.creativecommons.org/l/by/4.0/88x31.png\">\n",
    " <td>Text provided under a Creative Commons Attribution license, CC-BY. All code is made available under the FSF-approved MIT license. (c) Kyle T. Mandli, Andreas C. Mueller</td>\n",
    "</table>"
   ]
  },
  {
   "cell_type": "markdown",
   "metadata": {
    "slideshow": {
     "slide_type": "slide"
    }
   },
   "source": [
    "# Leveraging Free and Open-Source Tools and Ideas for Collaborative Learning in STEM"
   ]
  },
  {
   "cell_type": "markdown",
   "metadata": {
    "slideshow": {
     "slide_type": "subslide"
    }
   },
   "source": [
    "## Free and Open Source Software"
   ]
  },
  {
   "cell_type": "markdown",
   "metadata": {
    "slideshow": {
     "slide_type": "subslide"
    }
   },
   "source": [
    "<img src=\"https://upload.wikimedia.org/wikipedia/en/2/22/Heckert_GNU_white.svg\" width=\"20%\"> \n",
    "<img src=\"https://upload.wikimedia.org/wikipedia/commons/3/35/Tux.svg\" width=\"20%\">"
   ]
  },
  {
   "cell_type": "markdown",
   "metadata": {
    "slideshow": {
     "slide_type": "subslide"
    }
   },
   "source": [
    "### Why?\n",
    "\n",
    "1. The freedom to run the program as you wish, for any purpose.\n",
    "1. The freedom to study how the program works, and change it so it does your computing as you wish.\n",
    "1. The freedom to redistribute copies so you can help your neighbor.\n",
    "1. The freedom to distribute copies of your modified versions to others. By doing this you can give the whole community a chance to benefit from your changes. Access to the source code is a precondition for this."
   ]
  },
  {
   "cell_type": "markdown",
   "metadata": {},
   "source": [
    "# Open exchange\n",
    "\n",
    "We can learn more from each other when information is open. A free exchange of ideas is critical to creating an environment where people are allowed to learn and use existing information toward creating new ideas.\n",
    "\n",
    "# Participation\n",
    "\n",
    "When we are free to collaborate, we create. We can solve problems that no one person may be able to solve on their own.\n",
    "\n",
    "# Meritocracy\n",
    "\n",
    "In a meritocracy, the best ideas win. In a meritocracy, everyone has access to the same information. Successful work determines which projects rise and gather effort from the community.\n",
    "\n",
    "# Community\n",
    "\n",
    "Communities are formed around a common purpose. They bring together diverse ideas and share work. Together, a global community can create beyond the capabilities of any one individual. It multiplies effort and shares the work. Together, we can do more."
   ]
  },
  {
   "cell_type": "markdown",
   "metadata": {
    "slideshow": {
     "slide_type": "subslide"
    }
   },
   "source": [
    "<br><h3><center>What are the parallels in education?</center></h3>\n",
    "<br><h3><center>What about collaborative education?</center></h3>"
   ]
  },
  {
   "cell_type": "markdown",
   "metadata": {
    "slideshow": {
     "slide_type": "subslide"
    }
   },
   "source": [
    "Open Educational Resources are teaching and learning materials that provide users with\n",
    "\n",
    "1. free and unfettered access and\n",
    "2. legal permissions to retain, reuse, revise, remix, and redistribute them, that can be used to replace traditional expensive learning resources (such as textbooks)"
   ]
  },
  {
   "cell_type": "markdown",
   "metadata": {},
   "source": [
    "### Use of open source in Education\n",
    "- democratization etc"
   ]
  },
  {
   "cell_type": "markdown",
   "metadata": {},
   "source": [
    "### Examples / experiences\n",
    "- use in classroom, research, other educational settings?\n",
    "- homeworks etc?"
   ]
  },
  {
   "cell_type": "markdown",
   "metadata": {},
   "source": [
    "### Licenses\n",
    "\n",
    "Question:\n",
    "- What do you think is important?\n",
    "- Why important?\n",
    "\n",
    "#### Difference of software and creative content?\n",
    "\n",
    "#### CC licenses for content\n",
    "by etc\n",
    "\n",
    "#### Permissive vs share-alike (copyleft)"
   ]
  },
  {
   "cell_type": "markdown",
   "metadata": {},
   "source": [
    "## Overview of Workflow\n",
    "- Motivate for T&L\n",
    "- Transition: Git(Hub) embodiment of the principles. "
   ]
  },
  {
   "cell_type": "markdown",
   "metadata": {},
   "source": [
    "### Intro to Git(Hub)\n",
    "- What is version control (very high level)\n",
    "- How are principles relate to git / github\n",
    "- Focus on collaborative aspects and openness.\n",
    "- Version control as implementation mechanism of principles / collaboration\n",
    "- Students: collaboration vs plagiarism\n",
    "- Educators: collaboration on materials\n",
    "- Direct collaboration with students on projects / openness"
   ]
  },
  {
   "cell_type": "markdown",
   "metadata": {},
   "source": [
    "### How to actually use git?\n",
    "- Why is it useful? \n",
    "- How do you enact it?\n",
    "- GUIs? Browser applications?"
   ]
  },
  {
   "cell_type": "markdown",
   "metadata": {},
   "source": [
    "### Intro to Jupyter \n",
    "- Why use it?\n",
    "- What students can have issues with"
   ]
  },
  {
   "cell_type": "markdown",
   "metadata": {
    "slideshow": {
     "slide_type": "subslide"
    }
   },
   "source": [
    "### Content types\n",
    "   - Markdown\n",
    "   - LaTeX $x^2$\n",
    "   - Python, Julia, R, [lots of others](https://github.com/jupyter/jupyter/wiki/Jupyter-kernels)\n",
    "   "
   ]
  },
  {
   "cell_type": "code",
   "execution_count": 2,
   "metadata": {},
   "outputs": [],
   "source": [
    "%matplotlib inline\n",
    "import numpy\n",
    "import matplotlib.pyplot as plt"
   ]
  },
  {
   "cell_type": "code",
   "execution_count": 3,
   "metadata": {
    "collapsed": true,
    "slideshow": {
     "slide_type": "subslide"
    }
   },
   "outputs": [
    {
     "data": {
      "text/plain": [
       "(-1, 1)"
      ]
     },
     "execution_count": 3,
     "metadata": {},
     "output_type": "execute_result"
    },
    {
     "data": {
      "image/png": "[encoded data removed]",
      "text/plain": [
       "<matplotlib.figure.Figure at 0x7f5b65f26c18>"
      ]
     },
     "metadata": {},
     "output_type": "display_data"
    }
   ],
   "source": [
    "x = numpy.linspace(-1, 1, 100)\n",
    "\n",
    "fig = plt.figure()\n",
    "axes = fig.add_subplot(1, 1, 1)\n",
    "axes.plot(x, numpy.sin(2.0 * numpy.pi * x))\n",
    "axes.set_title(\"Awesome Math Stuff\")\n",
    "axes.set_xlabel(\"$x$\")\n",
    "axes.set_ylabel(\"$\\sin(2 \\pi x)$\")\n",
    "axes.set_xlim([-1, 1])"
   ]
  },
  {
   "cell_type": "code",
   "execution_count": null,
   "metadata": {
    "collapsed": true
   },
   "outputs": [],
   "source": []
  }
 ],
 "metadata": {
  "kernelspec": {
   "display_name": "Python 3",
   "language": "python",
   "name": "python3"
  },
  "language_info": {
   "codemirror_mode": {
    "name": "ipython",
    "version": 3
   },
   "file_extension": ".py",
   "mimetype": "text/x-python",
   "name": "python",
   "nbconvert_exporter": "python",
   "pygments_lexer": "ipython3",
   "version": "3.6.1"
  }
 },
 "nbformat": 4,
 "nbformat_minor": 2
}
