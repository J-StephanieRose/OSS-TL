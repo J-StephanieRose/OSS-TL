{
 "cells": [
  {
   "cell_type": "markdown",
   "metadata": {},
   "source": [
    "# Leveraging Open Source Principles and Resources for Teaching and Learning in STEM\n"
   ]
  },
  {
   "cell_type": "markdown",
   "metadata": {},
   "source": [
    "## Intro to principles (30-45 minutes) \n",
    "\n",
    "- Motivation\n",
    "- Description\n",
    "- discussion: how used in education? Why would these be useful in general? What’s different from software development to education?\n",
    "- Current use / our use of open source in education.\n",
    "- Andy and Kyle to share examples from their practice\n",
    "    \n",
    "    \n",
    "## Overview of toolchain\n",
    "- Motivate for T&L\n",
    "- Transition: Git(Hub) embodiment of the principles. \n",
    "\n",
    "### Intro to Git(Hub)\n",
    "- What is version control (very high level)\n",
    "- How are principles relate to git / github\n",
    "- Focus on collaborative aspects and openness.\n",
    "- Version control as implementation mechanism of principles / collaboration\n",
    "- Students: collaboration vs plagiarism\n",
    "- Educators: collaboration on materials\n",
    "- Direct collaboration with students on projects / openness\n",
    "\n",
    "### How to actually use git?\n",
    "- Tool chain \n",
    "- Why is it useful? \n",
    "- How do you enact it?\n",
    "\n",
    "### Intro to Jupyter \n",
    "- Why use it?\n",
    "- What students can have issues with\n"
   ]
  },
  {
   "cell_type": "code",
   "execution_count": null,
   "metadata": {
    "collapsed": true
   },
   "outputs": [],
   "source": []
  }
 ],
 "metadata": {
  "kernelspec": {
   "display_name": "Python [default]",
   "language": "python",
   "name": "python3"
  },
  "language_info": {
   "codemirror_mode": {
    "name": "ipython",
    "version": 3
   },
   "file_extension": ".py",
   "mimetype": "text/x-python",
   "name": "python",
   "nbconvert_exporter": "python",
   "pygments_lexer": "ipython3",
   "version": "3.6.1"
  }
 },
 "nbformat": 4,
 "nbformat_minor": 2
}
